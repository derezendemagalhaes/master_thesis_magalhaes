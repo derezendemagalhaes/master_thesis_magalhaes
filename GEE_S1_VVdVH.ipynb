{
 "cells": [
  {
   "cell_type": "markdown",
   "id": "scientific-northern",
   "metadata": {},
   "source": [
    "# VV/VH ratios - Sentinel 1\n",
    "\n",
    "\n",
    "## This will require an installation of EarthEngine (ee) in your conda environment:\n",
    "\n",
    "```\n",
    "conda install -c conda-forge earthengine-api\n",
    "```"
   ]
  },
  {
   "cell_type": "code",
   "execution_count": 1,
   "id": "cb5474d6",
   "metadata": {},
   "outputs": [],
   "source": [
    "import ee\n",
    "import collections\n",
    "collections.Callable = collections.abc.Callable"
   ]
  },
  {
   "cell_type": "code",
   "execution_count": 2,
   "id": "4caf554a",
   "metadata": {},
   "outputs": [
    {
     "data": {
      "text/html": [
       "<p>To authorize access needed by Earth Engine, open the following\n",
       "        URL in a web browser and follow the instructions:</p>\n",
       "        <p><a href=https://code.earthengine.google.com/client-auth?scopes=https%3A//www.googleapis.com/auth/earthengine%20https%3A//www.googleapis.com/auth/devstorage.full_control&request_id=MLFWnYdjo03YBBfKTgUuXEgs-oE9nFSVCZ0RxGGENJk&tc=YaOC08wodcM6X9KQQIPgKFOrqjjcJQuvqFuXxv-gQBI&cc=5PZLaqzpuWRHqawirJs2-98sgWtU83IF1gMDfeFccoo>https://code.earthengine.google.com/client-auth?scopes=https%3A//www.googleapis.com/auth/earthengine%20https%3A//www.googleapis.com/auth/devstorage.full_control&request_id=MLFWnYdjo03YBBfKTgUuXEgs-oE9nFSVCZ0RxGGENJk&tc=YaOC08wodcM6X9KQQIPgKFOrqjjcJQuvqFuXxv-gQBI&cc=5PZLaqzpuWRHqawirJs2-98sgWtU83IF1gMDfeFccoo</a></p>\n",
       "        <p>The authorization workflow will generate a code, which you should paste in the box below.</p>\n",
       "        "
      ],
      "text/plain": [
       "<IPython.core.display.HTML object>"
      ]
     },
     "metadata": {},
     "output_type": "display_data"
    },
    {
     "name": "stdout",
     "output_type": "stream",
     "text": [
      "Enter verification code: 4/1AbUR2VP3AVKUEPyTYlta8NN27PfoYvahMSH5mzDtG9MYKd07PlL39OUrmrQ\n",
      "\n",
      "Successfully saved authorization token.\n"
     ]
    }
   ],
   "source": [
    "# ee.Authenticate()"
   ]
  },
  {
   "cell_type": "code",
   "execution_count": 3,
   "id": "ignored-terry",
   "metadata": {},
   "outputs": [
    {
     "name": "stdout",
     "output_type": "stream",
     "text": [
      "0.1.337\n"
     ]
    }
   ],
   "source": [
    "ee.Initialize()\n",
    "print(ee.__version__)"
   ]
  },
  {
   "cell_type": "code",
   "execution_count": 4,
   "id": "published-barrier",
   "metadata": {},
   "outputs": [
    {
     "name": "stderr",
     "output_type": "stream",
     "text": [
      "/tmp/ipykernel_164740/371025712.py:6: UserWarning: Shapely 2.0 is installed, but because PyGEOS is also installed, GeoPandas will still use PyGEOS by default for now. To force to use and test Shapely 2.0, you have to set the environment variable USE_PYGEOS=0. You can do this before starting the Python process, or in your code before importing geopandas:\n",
      "\n",
      "import os\n",
      "os.environ['USE_PYGEOS'] = '0'\n",
      "import geopandas\n",
      "\n",
      "In a future release, GeoPandas will switch to using Shapely by default. If you are using PyGEOS directly (calling PyGEOS functions on geometries from GeoPandas), this will then stop working and you are encouraged to migrate from PyGEOS to Shapely 2.0 (https://shapely.readthedocs.io/en/latest/migration_pygeos.html).\n",
      "  import geopandas as gpd\n",
      "/tmp/ipykernel_164740/371025712.py:23: ShapelyDeprecationWarning: The 'type' attribute is deprecated, and will be removed in the future. You can use the 'geom_type' attribute instead.\n",
      "  ty = geom.type\n"
     ]
    }
   ],
   "source": [
    "\"\"\"Based on functions developed and collected by Dr. T. Smith https://github.com/tasmi/earthengine_code_snippets\"\"\"\n",
    "\n",
    "import numpy as np\n",
    "import matplotlib.pyplot as plt\n",
    "import pandas as pd\n",
    "import geopandas as gpd\n",
    "\n",
    "import sys\n",
    "import os\n",
    "from shapely.geometry import Polygon, Point\n",
    "#minx, miny ,maxx, maxy = ROI.envelope[0].bounds\n",
    "minx, maxx = 14, 17\n",
    "miny, maxy = -20, -17\n",
    "\n",
    "aoi = Polygon([[minx, maxy], [maxx, maxy], [maxx, miny], [minx, miny]])\n",
    "\n",
    "def gee_geometry_from_shapely(geom, crs='epsg:4326'):\n",
    "    \"\"\" \n",
    "    Simple helper function to take a shapely geometry and a coordinate system and convert them to a \n",
    "    Google Earth Engine Geometry.\n",
    "    \"\"\"\n",
    "    from shapely.geometry import mapping\n",
    "    ty = geom.type\n",
    "    if ty == 'Polygon':\n",
    "        return ee.Geometry.Polygon(ee.List(mapping(geom)['coordinates']), proj=crs, evenOdd=False)\n",
    "    elif ty == 'Point':\n",
    "        return ee.Geometry.Point(ee.List(mapping(geom)['coordinates']), proj=crs, evenOdd=False)    \n",
    "    elif ty == 'MultiPolygon':\n",
    "        return ee.Geometry.MultiPolygon(ee.List(mapping(geom)['coordinates']), proj=crs, evenOdd=False)\n",
    "    \n",
    "aoi_gee = gee_geometry_from_shapely(aoi)"
   ]
  },
  {
   "cell_type": "code",
   "execution_count": 5,
   "id": "retired-output",
   "metadata": {},
   "outputs": [],
   "source": [
    "#Edge masking with high/low angle\n",
    "def maskAngGT30(image):\n",
    "    ang = image.select(['angle'])\n",
    "    return image.updateMask(ang.gt(30.63993))\n",
    "\n",
    "def maskAngLT45(image):\n",
    "    ang = image.select(['angle'])\n",
    "    return image.updateMask(ang.lt(45.53993)) \n",
    "\n",
    "def maskAngleGT40(image):\n",
    "    ang = image.select(['angle'])\n",
    "    return image.updateMask(ang.gt(40))"
   ]
  },
  {
   "cell_type": "code",
   "execution_count": 6,
   "id": "protecting-linux",
   "metadata": {},
   "outputs": [],
   "source": [
    "def fix_S1(ds, de, polygon, flt=True, orbit=False, direction='Ascending', platform='both'):\n",
    "    if flt:\n",
    "        #This is not log-scaled (raw power)\n",
    "        S1 = ee.ImageCollection('COPERNICUS/S1_GRD_FLOAT')\n",
    "    else:\n",
    "        #This is log scaled (decibels)\n",
    "        S1 = ee.ImageCollection('COPERNICUS/S1_GRD')\n",
    "    \n",
    "    S1 = S1.filter(ee.Filter.listContains('transmitterReceiverPolarisation', 'VV'))\\\n",
    "    .filter(ee.Filter.listContains('transmitterReceiverPolarisation', 'VH'))\\\n",
    "    .filter(ee.Filter.eq('instrumentMode', 'IW'))\\\n",
    "    .filterBounds(polygon)\\\n",
    "    .filterDate(ds, de)\n",
    "    \n",
    "    if orbit:\n",
    "        S1 = S1.filter(ee.Filter.eq('relativeOrbitNumber_start', orbit))\n",
    "    \n",
    "    if direction == 'Ascending':\n",
    "        data = S1.filter(ee.Filter.eq('orbitProperties_pass', 'ASCENDING'))\n",
    "    else:\n",
    "        data = S1.filter(ee.Filter.eq('orbitProperties_pass', 'DESCENDING'))\n",
    "        \n",
    "    if not platform == 'both':\n",
    "        data = data.filter(ee.Filter.eq('platform_number', platform))\n",
    "    \n",
    "    #Apply angle masking\n",
    "    data = data.map(maskAngGT30)\n",
    "    data = data.map(maskAngLT45)\n",
    "    \n",
    "    s1_crs = data.select('VV').first().projection()\n",
    "    \n",
    "    return data, s1_crs"
   ]
  },
  {
   "cell_type": "code",
   "execution_count": 7,
   "id": "concerned-maximum",
   "metadata": {},
   "outputs": [],
   "source": [
    "def apply_speckle_filt(collection):\n",
    "    bn = collection.first().bandNames().getInfo()\n",
    "    def applyfx(image):\n",
    "        for b in bn:\n",
    "            nat = toNatural(image.select(b)) #Convert to log scale\n",
    "            filt = RefinedLee(nat) #Speckle Filter\n",
    "            updated = toDB(filt) #Convert back to decibels\n",
    "            image = image.addBands(updated.rename(b + '_filt'))\n",
    "        return ee.Image(image)\n",
    "    return collection.map(applyfx)\n",
    "\n",
    "def toNatural(img):\n",
    "    return ee.Image(10.0).pow(img.select(0).divide(10.0))"
   ]
  },
  {
   "cell_type": "code",
   "execution_count": 8,
   "id": "driving-basic",
   "metadata": {},
   "outputs": [],
   "source": [
    "def filter_s1(Ascending):\n",
    "    def make_rat(image):\n",
    "        rat = image.select('VV').divide(image.select('VH'))\n",
    "        return rat.rename('VVdVH').set('system:time_start', image.get('system:time_start'))\n",
    "    \n",
    "    def make_rat_filt(image):\n",
    "        rat = image.select('VV_filt').divide(image.select('VH_filt'))\n",
    "        return rat.rename('VVdVH').set('system:time_start', image.get('system:time_start'))\n",
    "    \n",
    "    def make_dif(image):\n",
    "        rat = image.select('VV').subtract(image.select('VH'))\n",
    "        return rat.rename('VVminVH').set('system:time_start', image.get('system:time_start'))\n",
    "                                       \n",
    "    S1A_both = Ascending.select(['VV', 'VH']).sort('system:time_start')\n",
    "    S1A_ratio = S1A_both.map(make_rat)\n",
    "    S1A_dif = S1A_both.map(make_dif)\n",
    "    \n",
    "    S1A_both_focal = focal_med_filt(S1A_both)\n",
    "    S1A_both_filt = apply_speckle_filt(S1A_both)\n",
    "    \n",
    "    S1A_ratio_focal = S1A_both_focal.map(make_rat_filt)\n",
    "    S1A_ratio_focal = mask_invalid(S1A_ratio_focal, -5, 5)\n",
    "        \n",
    "    S1A_ratio_filt = S1A_both_filt.map(make_rat_filt)\n",
    "    S1A_ratio_filt = mask_invalid(S1A_ratio_filt, -5, 5)\n",
    "    \n",
    "    return S1A_both, S1A_both_focal, S1A_both_filt, S1A_ratio, S1A_ratio_filt, S1A_ratio_focal"
   ]
  },
  {
   "cell_type": "code",
   "execution_count": 9,
   "id": "experimental-dakota",
   "metadata": {},
   "outputs": [],
   "source": [
    "def RefinedLee(img):\n",
    "    '''\n",
    "    Refined Lee Speckle Filter\n",
    "    NOTE: img must be in natural units, i.e. not in dB!\n",
    "    '''\n",
    "    #Set up 3x3 kernels \n",
    "    weights3 = ee.List.repeat(ee.List.repeat(1,3),3)\n",
    "    kernel3 = ee.Kernel.fixed(3,3, weights3, 1, 1, False)\n",
    "\n",
    "    mean3 = img.reduceNeighborhood(ee.Reducer.mean(), kernel3)\n",
    "    variance3 = img.reduceNeighborhood(ee.Reducer.variance(), kernel3)\n",
    "\n",
    "    #Use a sample of the 3x3 windows inside a 7x7 windows to determine gradients and directions\n",
    "    sample_weights = ee.List([[0,0,0,0,0,0,0], [0,1,0,1,0,1,0],[0,0,0,0,0,0,0], [0,1,0,1,0,1,0], [0,0,0,0,0,0,0],\n",
    "                              [0,1,0,1,0,1,0],[0,0,0,0,0,0,0]])\n",
    "\n",
    "    sample_kernel = ee.Kernel.fixed(7,7, sample_weights, 3,3, False)\n",
    "\n",
    "    #Calculate mean and variance for the sampled windows and store as 9 bands\n",
    "    sample_mean = mean3.neighborhoodToBands(sample_kernel)\n",
    "    sample_var = variance3.neighborhoodToBands(sample_kernel)\n",
    "\n",
    "    #Determine the 4 gradients for the sampled windows\n",
    "    gradients = sample_mean.select(1).subtract(sample_mean.select(7)).abs()\n",
    "    gradients = gradients.addBands(sample_mean.select(6).subtract(sample_mean.select(2)).abs())\n",
    "    gradients = gradients.addBands(sample_mean.select(3).subtract(sample_mean.select(5)).abs())\n",
    "    gradients = gradients.addBands(sample_mean.select(0).subtract(sample_mean.select(8)).abs())\n",
    "\n",
    "    #And find the maximum gradient amongst gradient bands\n",
    "    max_gradient = gradients.reduce(ee.Reducer.max())\n",
    "\n",
    "    #Create a mask for band pixels that are the maximum gradient\n",
    "    gradmask = gradients.eq(max_gradient)\n",
    "\n",
    "    #duplicate gradmask bands: each gradient represents 2 directions\n",
    "    gradmask = gradmask.addBands(gradmask)\n",
    "\n",
    "    #Determine the 8 directions\n",
    "    directions = sample_mean.select(1).subtract(sample_mean.select(4)).gt(sample_mean.select(4).\n",
    "                                                                          subtract(sample_mean.select(7))).multiply(1)\n",
    "    directions = directions.addBands(sample_mean.select(6).subtract(sample_mean.select(4)).\n",
    "                                     gt(sample_mean.select(4).subtract(sample_mean.select(2))).multiply(2))\n",
    "    directions = directions.addBands(sample_mean.select(3).subtract(sample_mean.select(4)).\n",
    "                                     gt(sample_mean.select(4).subtract(sample_mean.select(5))).multiply(3))\n",
    "    directions = directions.addBands(sample_mean.select(0).subtract(sample_mean.select(4)).\n",
    "                                     gt(sample_mean.select(4).subtract(sample_mean.select(8))).multiply(4))\n",
    "  \n",
    "    #The next 4 are the not() of the previous 4\n",
    "    directions = directions.addBands(directions.select(0).Not().multiply(5))\n",
    "    directions = directions.addBands(directions.select(1).Not().multiply(6))\n",
    "    directions = directions.addBands(directions.select(2).Not().multiply(7))\n",
    "    directions = directions.addBands(directions.select(3).Not().multiply(8))\n",
    "\n",
    "    #Mask all values that are not 1-8\n",
    "    directions = directions.updateMask(gradmask)\n",
    "\n",
    "    #\"collapse\" the stack into a singe band image (due to masking, each pixel has just one value (1-8) in it's directional band, and is otherwise masked)\n",
    "    directions = directions.reduce(ee.Reducer.sum()) \n",
    "\n",
    "    sample_stats = sample_var.divide(sample_mean.multiply(sample_mean))\n",
    "\n",
    "    #Calculate localNoiseVariance\n",
    "    sigmaV = ee.Image(sample_stats.toArray().arraySort().arraySlice(0,0,5).arrayReduce(ee.Reducer.mean(), [0]))\n",
    "\n",
    "    #Set up the 7*7 kernels for directional statistics\n",
    "    rect_weights = ee.List.repeat(ee.List.repeat(0,7),3).cat(ee.List.repeat(ee.List.repeat(1,7),4))\n",
    "    \n",
    "    diag_weights = ee.List([[1,0,0,0,0,0,0], [1,1,0,0,0,0,0], [1,1,1,0,0,0,0], [1,1,1,1,0,0,0], [1,1,1,1,1,0,0],\n",
    "                            [1,1,1,1,1,1,0], [1,1,1,1,1,1,1]])\n",
    "\n",
    "    rect_kernel = ee.Kernel.fixed(7,7, rect_weights, 3, 3, False)\n",
    "    diag_kernel = ee.Kernel.fixed(7,7, diag_weights, 3, 3, False)\n",
    "\n",
    "    #Create stacks for mean and variance using the original kernels. Mask with relevant direction.\n",
    "    dir_mean = img.reduceNeighborhood(ee.Reducer.mean(), rect_kernel).updateMask(directions.eq(1))\n",
    "    dir_var = img.reduceNeighborhood(ee.Reducer.variance(), rect_kernel).updateMask(directions.eq(1))\n",
    "\n",
    "    dir_mean = dir_mean.addBands(img.reduceNeighborhood(ee.Reducer.mean(), diag_kernel).updateMask(directions.eq(2)))\n",
    "    dir_var = dir_var.addBands(img.reduceNeighborhood(ee.Reducer.variance(), diag_kernel).updateMask(directions.eq(2)))\n",
    "\n",
    "    #and add the bands for rotated kernels\n",
    "    #for (var i=1; i<4; i++) {\n",
    "    for i in range(1,4):\n",
    "        dir_mean = dir_mean.addBands(img.reduceNeighborhood(ee.Reducer.mean(), rect_kernel.rotate(i)).\n",
    "                                     updateMask(directions.eq(2*i+1)))\n",
    "        dir_var = dir_var.addBands(img.reduceNeighborhood(ee.Reducer.variance(), rect_kernel.rotate(i)).\n",
    "                                   updateMask(directions.eq(2*i+1)))\n",
    "        dir_mean = dir_mean.addBands(img.reduceNeighborhood(ee.Reducer.mean(), diag_kernel.rotate(i)).\n",
    "                                     updateMask(directions.eq(2*i+2)))\n",
    "        dir_var = dir_var.addBands(img.reduceNeighborhood(ee.Reducer.variance(), diag_kernel.rotate(i)).\n",
    "                                   updateMask(directions.eq(2*i+2)))\n",
    "\n",
    "    #\"collapse\" the stack into a single band image (due to masking, each pixel has just one value in it's \n",
    "    #directional band, and is otherwise masked)\n",
    "    dir_mean = dir_mean.reduce(ee.Reducer.sum())\n",
    "    dir_var = dir_var.reduce(ee.Reducer.sum())\n",
    "\n",
    "    #And finally generate the filtered value\n",
    "    varX = dir_var.subtract(dir_mean.multiply(dir_mean).multiply(sigmaV)).divide(sigmaV.add(1.0))\n",
    "    b = varX.divide(dir_var)\n",
    "\n",
    "    result = ee.Image(dir_mean.add(b.multiply(img.subtract(dir_mean))))\n",
    "    return result\n",
    "\n",
    "def toDB(img):\n",
    "    return ee.Image(img).log10().multiply(10.0)\n",
    "\n",
    "def focal_med_filt(collection, radius=100):\n",
    "    ''' \n",
    "    Apply a focal median filter to a selected band, with flexible radius\n",
    "    '''\n",
    "    bn = collection.first().bandNames().getInfo()\n",
    "    \n",
    "    def applyfx(image):\n",
    "        for b in bn:\n",
    "            sel = image.select(b)\n",
    "            smoothed = sel.focal_median(radius, 'circle', 'meters')\n",
    "            image = image.addBands(smoothed.rename(b + '_filt'))\n",
    "        return image\n",
    "    return collection.map(applyfx)\n",
    "\n",
    "def mask_invalid(collection, minval, maxval, band=None):\n",
    "    '''\n",
    "    Mask all images in a collection by some min and max value\n",
    "    '''\n",
    "    \n",
    "    if band:\n",
    "        collection = collection.select(band)\n",
    "    \n",
    "    def apply_mask(image):\n",
    "        mask1 = image.lt(maxval)\n",
    "        mask2 = image.gt(minval)\n",
    "        return image.updateMask(mask1).updateMask(mask2)\n",
    "    return collection.map(apply_mask)"
   ]
  },
  {
   "cell_type": "code",
   "execution_count": 10,
   "id": "b28e8d72",
   "metadata": {},
   "outputs": [],
   "source": [
    "def export_collection(collection, region, prefix, crs=None, scale=5, start_image=0, \\\n",
    "                      max_images=None, folder=None, namelist=None):\n",
    "    '''\n",
    "    Exports all images within an image collection for a given region. All files named by a prefix (given)\n",
    "    and their image date (formatted YYYYMMDD). \n",
    "    region: area to export\n",
    "    prefix: file name prefix\n",
    "    crs: can be provided, or determined automatically\n",
    "    scale: output image pixel size in meters\n",
    "    start_image: where to start in the list of images (e.g., if you need to break your job up into pieces)\n",
    "    max_images: number of images to export (e.g., maximum)\n",
    "    folder: if you want to store all images in a separate folder in your GDrive\n",
    "    '''\n",
    "    if not crs:\n",
    "        crs = collection.first().projection()\n",
    "    \n",
    "    nr_images = int(collection.size().getInfo())    \n",
    "    image_list = collection.toList(nr_images)\n",
    "    \n",
    "    if max_images:\n",
    "        if max_images < nr_images:\n",
    "            nr_images = start_image + max_images #Make sure not to export too many if you want to test something\n",
    "        else:\n",
    "            #If the number of images to export is less than the max_images, pass\n",
    "            pass\n",
    "        \n",
    "    print('Exporting up to %i Images' % nr_images)\n",
    "    \n",
    "    if namelist:\n",
    "        #Run through provided prefixes (e.g., one image for each month or year in a collection)\n",
    "        for i, name in enumerate(namelist):\n",
    "            image = ee.Image(image_list.get(i))\n",
    "            output_name = prefix + '_' + name + '_' + str(scale) + 'm'\n",
    "            run_export(image, crs=crs, filename=output_name, scale=scale, region=region, folder=folder)\n",
    "            print('Started export for image ' + str(i) + '(' + name + ')')\n",
    "            \n",
    "    else:\n",
    "        #Run a list from the starting image to the number you want using the date of the image in the name\n",
    "        for i in range(start_image, nr_images):\n",
    "            if i >= start_image:\n",
    "                image = ee.Image(image_list.get(i))\n",
    "                try:\n",
    "                    #If there are defined start and end dates, add them to the file names\n",
    "                    ds = image.get('sdate')\n",
    "                    de = image.get('edate')\n",
    "                    date_name0 = ee.Date(ds).format('YYYYMMdd').getInfo()\n",
    "                    date_name1 = ee.Date(de).format('YYYYMMdd').getInfo()\n",
    "                    date_name = date_name0 + '-' + date_name1\n",
    "                except:\n",
    "                    #Otherwise simply name by the image collection date\n",
    "                    date = image.get('system:time_start')\n",
    "                    date_name = ee.Date(date).format('YYYYMMdd').getInfo()\n",
    "                output_name = prefix + '_' + date_name + '_' + str(scale) + 'm'\n",
    "                run_export(image, crs=crs, filename=output_name, scale=scale, region=region, folder=folder)\n",
    "                print('Started export for image ' + str(i) + '(' + date_name + ')')\n",
    "       "
   ]
  },
  {
   "cell_type": "code",
   "execution_count": 11,
   "id": "d5a2b1e0",
   "metadata": {},
   "outputs": [],
   "source": [
    "def run_export(image, crs, filename, scale, region, folder=None, maxPixels=1e12, cloud_optimized=True):\n",
    "    '''\n",
    "    Runs an export function on GEE servers\n",
    "    '''\n",
    "    task_config = {'fileNamePrefix': filename,'crs': crs,'scale': scale,'maxPixels': maxPixels, 'fileFormat': 'GeoTIFF', 'formatOptions': {'cloudOptimized': cloud_optimized}, 'region': region,}\n",
    "    if folder:\n",
    "        task_config['folder'] = folder\n",
    "    task = ee.batch.Export.image.toDrive(image, filename, **task_config)\n",
    "    task.start()"
   ]
  },
  {
   "cell_type": "code",
   "execution_count": 12,
   "id": "sensitive-deposit",
   "metadata": {},
   "outputs": [],
   "source": [
    "ds2, de2 = '2018-10-01', '2022-03-26'\n",
    "\n",
    "#loading, filtering, and correction\n",
    "orbdict = {}\n",
    "for orbit in [58, 131]:# Northern Namibia has two orbits -- 131 and 58\n",
    "    Ascending, s1_crs = fix_S1(ds2, de2, aoi_gee, flt=False, orbit=orbit)\n",
    "    S1A_both, S1A_both_focal, S1A_both_filt, S1A_ratio, S1A_ratio_filt, S1A_ratio_focal = filter_s1(Ascending)\n",
    "    orbdict[orbit] = S1A_both_focal\n",
    "    orbdict[str(orbit) + '_ratio'] = S1A_ratio_focal\n",
    "    \n",
    "av = orbdict['58_ratio'].reduce(ee.Reducer.median())\n",
    "av_std = orbdict['58_ratio'].reduce(ee.Reducer.stdDev())"
   ]
  },
  {
   "cell_type": "code",
   "execution_count": 13,
   "id": "d4c7d596",
   "metadata": {},
   "outputs": [],
   "source": [
    "# Save the VV/VH median and standard deviation to GeoTiff\n",
    "task = ee.batch.Export.image.toDrive(image=av, description='VVdVH_median_Oct_2018_Mar_2022', folder=\"s1_2020\", scale=10, region=aoi_gee, crs='EPSG:4326', \n",
    "                                     maxPixels = 1e13)\n",
    "task.start()\n",
    "\n",
    "task_std = ee.batch.Export.image.toDrive(image=av_std, description='VVdVH_median_Oct_2018_Mar_2022', folder=\"s1_2020\", scale=10, region= aoi_gee, \n",
    "                                         crs='EPSG:4326', maxPixels = 1e13)\n",
    "task_std.start()"
   ]
  },
  {
   "cell_type": "code",
   "execution_count": 14,
   "id": "6d14ed0f",
   "metadata": {},
   "outputs": [
    {
     "name": "stdout",
     "output_type": "stream",
     "text": [
      "{'state': 'READY', 'description': 'VVdVH_median_Oct_2018_Mar_2022', 'creation_timestamp_ms': 1684007201369, 'update_timestamp_ms': 1684007201369, 'start_timestamp_ms': 0, 'task_type': 'EXPORT_IMAGE', 'id': 'YUSVZJZEBPYV5BJAJDJOY7AV', 'name': 'projects/earthengine-legacy/operations/YUSVZJZEBPYV5BJAJDJOY7AV'}\n"
     ]
    }
   ],
   "source": [
    "# Check the status of the task\n",
    "status = ee.data.getTaskStatus(task.id)[0]\n",
    "\n",
    "print(status)"
   ]
  },
  {
   "cell_type": "code",
   "execution_count": 15,
   "id": "5ecf5b29",
   "metadata": {},
   "outputs": [
    {
     "name": "stdout",
     "output_type": "stream",
     "text": [
      "{'state': 'READY', 'description': 'VVdVH_median_Oct_2018_Mar_2022', 'creation_timestamp_ms': 1684007202350, 'update_timestamp_ms': 1684007202350, 'start_timestamp_ms': 0, 'task_type': 'EXPORT_IMAGE', 'id': 'DILI2R3CRRQK5TMBGR4HVDXQ', 'name': 'projects/earthengine-legacy/operations/DILI2R3CRRQK5TMBGR4HVDXQ'}\n"
     ]
    }
   ],
   "source": [
    "# Check the status of the task\n",
    "status = ee.data.getTaskStatus(task_std.id)[0]\n",
    "\n",
    "print(status)"
   ]
  },
  {
   "cell_type": "markdown",
   "id": "3fa69533",
   "metadata": {},
   "source": [
    "---"
   ]
  }
 ],
 "metadata": {
  "kernelspec": {
   "display_name": "Python 3 (ipykernel)",
   "language": "python",
   "name": "python3"
  },
  "language_info": {
   "codemirror_mode": {
    "name": "ipython",
    "version": 3
   },
   "file_extension": ".py",
   "mimetype": "text/x-python",
   "name": "python",
   "nbconvert_exporter": "python",
   "pygments_lexer": "ipython3",
   "version": "3.11.0"
  }
 },
 "nbformat": 4,
 "nbformat_minor": 5
}
